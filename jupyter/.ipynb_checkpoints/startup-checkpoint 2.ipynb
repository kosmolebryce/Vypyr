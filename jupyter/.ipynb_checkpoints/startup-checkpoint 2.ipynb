{
 "cells": [
  {
   "cell_type": "code",
   "execution_count": 18,
   "id": "afe3a684-9edb-4e0b-9a42-0e7b9903d67f",
   "metadata": {},
   "outputs": [
    {
     "name": "stdout",
     "output_type": "stream",
     "text": [
      "════════════════════════════════════════════════════════════════════════════════\n",
      "    Vypyr Medulla successfully initialized.\n",
      "════════════════════════════════════════════════════════════════════════════════\n"
     ]
    }
   ],
   "source": [
    "import os\n",
    "import pathlib\n",
    "import sys\n",
    "from pathlib import Path as p\n",
    "\n",
    "HOME = p.home()\n",
    "CLOUD_DIR = HOME / 'iCloud'\n",
    "VYPYR_DIR = CLOUD_DIR / 'vypyr'\n",
    "sys.path.append(CLOUD_DIR)\n",
    "sys.path.append(VYPYR_DIR)\n",
    "sys.path.append(f'{VYPYR_DIR}/src')\n",
    "\n",
    "wd = os.getcwd()\n",
    "if wd != CLOUD_DIR:\n",
    "    os.chdir(CLOUD_DIR)\n",
    "else:\n",
    "    pass\n",
    "    \n",
    "try:\n",
    "    import vypyr\n",
    "    from vypyr.src.medulla.main import *\n",
    "    div()\n",
    "    typyr('    Vypyr Medulla successfully initialized.')\n",
    "    div()\n",
    "except Exception as e:\n",
    "    print(f'ERROR:    {e}')"
   ]
  }
 ],
 "metadata": {
  "kernelspec": {
   "display_name": "Python 3 (ipykernel)",
   "language": "python",
   "name": "python3"
  },
  "language_info": {
   "codemirror_mode": {
    "name": "ipython",
    "version": 3
   },
   "file_extension": ".py",
   "mimetype": "text/x-python",
   "name": "python",
   "nbconvert_exporter": "python",
   "pygments_lexer": "ipython3",
   "version": "3.11.7"
  }
 },
 "nbformat": 4,
 "nbformat_minor": 5
}
