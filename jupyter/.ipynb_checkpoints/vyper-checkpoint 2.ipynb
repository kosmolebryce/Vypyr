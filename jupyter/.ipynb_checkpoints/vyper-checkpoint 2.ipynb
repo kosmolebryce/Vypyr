{
 "cells": [
  {
   "cell_type": "code",
   "execution_count": 2,
   "metadata": {},
   "outputs": [
    {
     "name": "stdout",
     "output_type": "stream",
     "text": [
      "Successfully imported Vypyr.\n"
     ]
    }
   ],
   "source": [
    "import os\n",
    "import pathlib\n",
    "import sys\n",
    "from os import environ\n",
    "from pathlib import Path as p\n",
    "\n",
    "HOME_DIR = p.home()\n",
    "CLOUD_DIR = HOME_DIR / 'iCloud'\n",
    "VYPYR_DIR = HOME_DIR / 'iCloud' / 'vypyr'\n",
    "\n",
    "# Setting current working directory to `CLOUD_DIR`\n",
    "os.chdir(CLOUD_DIR)\n",
    "\n",
    "try:\n",
    "    import vypyr\n",
    "    from vypyr import *\n",
    "    from vypyr.src import *\n",
    "    from vypyr.src.medulla.main import *\n",
    "    typyr(f'Successfully imported Vypyr.')\n",
    "except Except as e:\n",
    "    typyr(f'ERROR: {e}')\n",
    "\n",
    "def fly_swatter():\n",
    "    typyr(f' HOME_DIR := {HOME_DIR}')\n",
    "    typyr(f'CLOUD_DIR := {CLOUD_DIR}')\n",
    "    typyr(f'VYPYR_DIR := {VYPYR_DIR}')"
   ]
  },
  {
   "cell_type": "code",
   "execution_count": 3,
   "metadata": {},
   "outputs": [],
   "source": [
    "def up():\n",
    "    fp = p('.').resolve().parent\n",
    "    cd(fp)\n",
    "    pwd()"
   ]
  },
  {
   "cell_type": "markdown",
   "metadata": {},
   "source": [
    "# README.md\n",
    "\n",
    "## Vypyr v0.0.1\n",
    "\n",
    "**Developer**\n",
    "> *K. LeBryce*\n",
    "> `<k.lebryce@pm.me>`\n",
    "\n",
    "-----\n",
    "### Overview\n",
    "> Vypyr is a human-readable Python wrapper that aims to provide users\n",
    "> with easy access to robust development functionalities.\n",
    "\n",
    "### Modules\n",
    "> #### [`medulla`]\n",
    "> > ```\n",
    "> > Desc.:    Essential utilities for Python developers.\n",
    "> > Version:  0.0.1\n",
    "> > Status:   Under development\n",
    "> > ```"
   ]
  },
  {
   "cell_type": "code",
   "execution_count": null,
   "metadata": {},
   "outputs": [],
   "source": []
  }
 ],
 "metadata": {
  "kernelspec": {
   "display_name": "Python 3 (ipykernel)",
   "language": "python",
   "name": "python3"
  },
  "language_info": {
   "codemirror_mode": {
    "name": "ipython",
    "version": 3
   },
   "file_extension": ".py",
   "mimetype": "text/x-python",
   "name": "python",
   "nbconvert_exporter": "python",
   "pygments_lexer": "ipython3",
   "version": "3.10.14"
  }
 },
 "nbformat": 4,
 "nbformat_minor": 4
}
