{
 "cells": [
  {
   "cell_type": "code",
   "execution_count": 3,
   "id": "e674577b-d518-4d13-bd4b-a0c98cc8f08d",
   "metadata": {},
   "outputs": [],
   "source": [
    "import pandas as pd\n",
    "from pandas import DataFrame as df\n",
    "import vypyr"
   ]
  },
  {
   "cell_type": "code",
   "execution_count": 4,
   "id": "b117e1a6-0df4-46ab-b5ef-5663e3fb8c12",
   "metadata": {},
   "outputs": [
    {
     "name": "stdout",
     "output_type": "stream",
     "text": [
      "════════════════════════════════════════════════════════════════════════════════\n",
      "    Vypyr Medulla successfully initialized.\n",
      "════════════════════════════════════════════════════════════════════════════════\n"
     ]
    }
   ],
   "source": [
    "from vypyr import startup"
   ]
  },
  {
   "cell_type": "markdown",
   "id": "90a639fe-1bba-4b33-a2e7-45dccf6ed83d",
   "metadata": {
    "editable": true,
    "slideshow": {
     "slide_type": ""
    },
    "tags": []
   },
   "source": [
    "# BIO550: BIOSTATS\n",
    "\n",
    "-----\n",
    "\n",
    "## Chapter 20\n",
    "\n",
    "### ANOVA\n",
    "ANOVA is a non-parametric test used to "
   ]
  },
  {
   "cell_type": "code",
   "execution_count": null,
   "id": "80a6ee47-667c-4295-8914-14c7cfa267f3",
   "metadata": {},
   "outputs": [],
   "source": []
  }
 ],
 "metadata": {
  "kernelspec": {
   "display_name": "Python 3 (ipykernel)",
   "language": "python",
   "name": "python3"
  },
  "language_info": {
   "codemirror_mode": {
    "name": "ipython",
    "version": 3
   },
   "file_extension": ".py",
   "mimetype": "text/x-python",
   "name": "python",
   "nbconvert_exporter": "python",
   "pygments_lexer": "ipython3",
   "version": "3.10.14"
  }
 },
 "nbformat": 4,
 "nbformat_minor": 5
}
